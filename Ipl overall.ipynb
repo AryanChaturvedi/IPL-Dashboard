{
 "cells": [
  {
   "cell_type": "code",
   "execution_count": 1,
   "id": "f5cd8528",
   "metadata": {},
   "outputs": [],
   "source": [
    "import pandas as pd\n",
    "import numpy as np"
   ]
  },
  {
   "cell_type": "code",
   "execution_count": 2,
   "id": "3bab1c7d",
   "metadata": {},
   "outputs": [],
   "source": [
    "data = pd.read_csv('deliveries.csv')\n",
    "venue = pd.read_csv('venue.csv')\n",
    "players= pd.read_csv('players_info_with_keys.csv')\n",
    "match = pd.read_csv('match_details.csv')\n"
   ]
  },
  {
   "cell_type": "code",
   "execution_count": 3,
   "id": "b05caaa2",
   "metadata": {},
   "outputs": [],
   "source": [
    "data.drop_duplicates(inplace=True)"
   ]
  },
  {
   "cell_type": "code",
   "execution_count": 4,
   "id": "db0b3f6a",
   "metadata": {},
   "outputs": [],
   "source": [
    "data[['extras','wides','noballs','byes','legbyes','penalty']]= data[['extras','wides','noballs','byes','legbyes','penalty']].fillna(0).astype('int')"
   ]
  },
  {
   "cell_type": "code",
   "execution_count": 5,
   "id": "1f8cf138",
   "metadata": {},
   "outputs": [
    {
     "data": {
      "text/plain": [
       "2013       18177\n",
       "2022       17912\n",
       "2012       17767\n",
       "2011       17013\n",
       "2020/21    14559\n",
       "2009/10    14498\n",
       "2021       14425\n",
       "2019       14312\n",
       "2014       14300\n",
       "2018       14286\n",
       "2016       14096\n",
       "2017       13862\n",
       "2015       13652\n",
       "2009       13606\n",
       "2007/08    13489\n",
       "Name: season, dtype: int64"
      ]
     },
     "execution_count": 5,
     "metadata": {},
     "output_type": "execute_result"
    }
   ],
   "source": [
    "data['season'].value_counts()"
   ]
  },
  {
   "cell_type": "code",
   "execution_count": 6,
   "id": "13644ad4",
   "metadata": {},
   "outputs": [
    {
     "data": {
      "text/html": [
       "<div>\n",
       "<style scoped>\n",
       "    .dataframe tbody tr th:only-of-type {\n",
       "        vertical-align: middle;\n",
       "    }\n",
       "\n",
       "    .dataframe tbody tr th {\n",
       "        vertical-align: top;\n",
       "    }\n",
       "\n",
       "    .dataframe thead th {\n",
       "        text-align: right;\n",
       "    }\n",
       "</style>\n",
       "<table border=\"1\" class=\"dataframe\">\n",
       "  <thead>\n",
       "    <tr style=\"text-align: right;\">\n",
       "      <th></th>\n",
       "      <th>striker</th>\n",
       "      <th>runs_off_bat</th>\n",
       "    </tr>\n",
       "  </thead>\n",
       "  <tbody>\n",
       "    <tr>\n",
       "      <th>0</th>\n",
       "      <td>V Kohli</td>\n",
       "      <td>6634</td>\n",
       "    </tr>\n",
       "    <tr>\n",
       "      <th>1</th>\n",
       "      <td>S Dhawan</td>\n",
       "      <td>6244</td>\n",
       "    </tr>\n",
       "    <tr>\n",
       "      <th>2</th>\n",
       "      <td>DA Warner</td>\n",
       "      <td>5883</td>\n",
       "    </tr>\n",
       "    <tr>\n",
       "      <th>3</th>\n",
       "      <td>RG Sharma</td>\n",
       "      <td>5881</td>\n",
       "    </tr>\n",
       "    <tr>\n",
       "      <th>4</th>\n",
       "      <td>SK Raina</td>\n",
       "      <td>5536</td>\n",
       "    </tr>\n",
       "    <tr>\n",
       "      <th>...</th>\n",
       "      <td>...</td>\n",
       "      <td>...</td>\n",
       "    </tr>\n",
       "    <tr>\n",
       "      <th>600</th>\n",
       "      <td>C Nanda</td>\n",
       "      <td>0</td>\n",
       "    </tr>\n",
       "    <tr>\n",
       "      <th>601</th>\n",
       "      <td>Akash Deep</td>\n",
       "      <td>0</td>\n",
       "    </tr>\n",
       "    <tr>\n",
       "      <th>602</th>\n",
       "      <td>S Ladda</td>\n",
       "      <td>0</td>\n",
       "    </tr>\n",
       "    <tr>\n",
       "      <th>603</th>\n",
       "      <td>V Pratap Singh</td>\n",
       "      <td>0</td>\n",
       "    </tr>\n",
       "    <tr>\n",
       "      <th>604</th>\n",
       "      <td>S Lamichhane</td>\n",
       "      <td>0</td>\n",
       "    </tr>\n",
       "  </tbody>\n",
       "</table>\n",
       "<p>605 rows × 2 columns</p>\n",
       "</div>"
      ],
      "text/plain": [
       "            striker  runs_off_bat\n",
       "0           V Kohli          6634\n",
       "1          S Dhawan          6244\n",
       "2         DA Warner          5883\n",
       "3         RG Sharma          5881\n",
       "4          SK Raina          5536\n",
       "..              ...           ...\n",
       "600         C Nanda             0\n",
       "601      Akash Deep             0\n",
       "602         S Ladda             0\n",
       "603  V Pratap Singh             0\n",
       "604    S Lamichhane             0\n",
       "\n",
       "[605 rows x 2 columns]"
      ]
     },
     "execution_count": 6,
     "metadata": {},
     "output_type": "execute_result"
    }
   ],
   "source": [
    "#most runs\n",
    "batsman = data.groupby('striker').sum().sort_values('runs_off_bat',ascending= False)\n",
    "batsman_run= batsman['runs_off_bat'].reset_index()\n",
    "batsman_run\n"
   ]
  },
  {
   "cell_type": "code",
   "execution_count": 7,
   "id": "52f71a06",
   "metadata": {},
   "outputs": [
    {
     "data": {
      "text/html": [
       "<div>\n",
       "<style scoped>\n",
       "    .dataframe tbody tr th:only-of-type {\n",
       "        vertical-align: middle;\n",
       "    }\n",
       "\n",
       "    .dataframe tbody tr th {\n",
       "        vertical-align: top;\n",
       "    }\n",
       "\n",
       "    .dataframe thead th {\n",
       "        text-align: right;\n",
       "    }\n",
       "</style>\n",
       "<table border=\"1\" class=\"dataframe\">\n",
       "  <thead>\n",
       "    <tr style=\"text-align: right;\">\n",
       "      <th></th>\n",
       "      <th>Batsman</th>\n",
       "      <th>y</th>\n",
       "    </tr>\n",
       "  </thead>\n",
       "  <tbody>\n",
       "    <tr>\n",
       "      <th>0</th>\n",
       "      <td>V Kohli</td>\n",
       "      <td>6634</td>\n",
       "    </tr>\n",
       "    <tr>\n",
       "      <th>1</th>\n",
       "      <td>S Dhawan</td>\n",
       "      <td>6244</td>\n",
       "    </tr>\n",
       "    <tr>\n",
       "      <th>2</th>\n",
       "      <td>DA Warner</td>\n",
       "      <td>5883</td>\n",
       "    </tr>\n",
       "    <tr>\n",
       "      <th>3</th>\n",
       "      <td>RG Sharma</td>\n",
       "      <td>5881</td>\n",
       "    </tr>\n",
       "    <tr>\n",
       "      <th>4</th>\n",
       "      <td>SK Raina</td>\n",
       "      <td>5536</td>\n",
       "    </tr>\n",
       "    <tr>\n",
       "      <th>5</th>\n",
       "      <td>AB de Villiers</td>\n",
       "      <td>5181</td>\n",
       "    </tr>\n",
       "    <tr>\n",
       "      <th>6</th>\n",
       "      <td>CH Gayle</td>\n",
       "      <td>4997</td>\n",
       "    </tr>\n",
       "    <tr>\n",
       "      <th>7</th>\n",
       "      <td>MS Dhoni</td>\n",
       "      <td>4978</td>\n",
       "    </tr>\n",
       "    <tr>\n",
       "      <th>8</th>\n",
       "      <td>RV Uthappa</td>\n",
       "      <td>4954</td>\n",
       "    </tr>\n",
       "    <tr>\n",
       "      <th>9</th>\n",
       "      <td>KD Karthik</td>\n",
       "      <td>4377</td>\n",
       "    </tr>\n",
       "  </tbody>\n",
       "</table>\n",
       "</div>"
      ],
      "text/plain": [
       "          Batsman     y\n",
       "0         V Kohli  6634\n",
       "1        S Dhawan  6244\n",
       "2       DA Warner  5883\n",
       "3       RG Sharma  5881\n",
       "4        SK Raina  5536\n",
       "5  AB de Villiers  5181\n",
       "6        CH Gayle  4997\n",
       "7        MS Dhoni  4978\n",
       "8      RV Uthappa  4954\n",
       "9      KD Karthik  4377"
      ]
     },
     "execution_count": 7,
     "metadata": {},
     "output_type": "execute_result"
    }
   ],
   "source": [
    "data_selected = batsman_run.head(10)\n",
    "data_selected = data_selected.rename(columns={'striker':'Batsman','runs_off_bat':'y'})\n",
    "data_selected"
   ]
  },
  {
   "cell_type": "code",
   "execution_count": 16,
   "id": "4757c170",
   "metadata": {
    "scrolled": true
   },
   "outputs": [
    {
     "data": {
      "text/html": [
       "<div>\n",
       "<style scoped>\n",
       "    .dataframe tbody tr th:only-of-type {\n",
       "        vertical-align: middle;\n",
       "    }\n",
       "\n",
       "    .dataframe tbody tr th {\n",
       "        vertical-align: top;\n",
       "    }\n",
       "\n",
       "    .dataframe thead th {\n",
       "        text-align: right;\n",
       "    }\n",
       "</style>\n",
       "<table border=\"1\" class=\"dataframe\">\n",
       "  <thead>\n",
       "    <tr style=\"text-align: right;\">\n",
       "      <th></th>\n",
       "      <th>striker</th>\n",
       "      <th>strikerate</th>\n",
       "    </tr>\n",
       "  </thead>\n",
       "  <tbody>\n",
       "    <tr>\n",
       "      <th>0</th>\n",
       "      <td>DA Warner</td>\n",
       "      <td>1810.153846</td>\n",
       "    </tr>\n",
       "    <tr>\n",
       "      <th>1</th>\n",
       "      <td>CH Gayle</td>\n",
       "      <td>1759.507042</td>\n",
       "    </tr>\n",
       "    <tr>\n",
       "      <th>2</th>\n",
       "      <td>S Dhawan</td>\n",
       "      <td>1669.518717</td>\n",
       "    </tr>\n",
       "    <tr>\n",
       "      <th>3</th>\n",
       "      <td>SR Watson</td>\n",
       "      <td>1583.673469</td>\n",
       "    </tr>\n",
       "    <tr>\n",
       "      <th>4</th>\n",
       "      <td>RV Uthappa</td>\n",
       "      <td>1519.631902</td>\n",
       "    </tr>\n",
       "    <tr>\n",
       "      <th>...</th>\n",
       "      <td>...</td>\n",
       "      <td>...</td>\n",
       "    </tr>\n",
       "    <tr>\n",
       "      <th>65</th>\n",
       "      <td>PP Chawla</td>\n",
       "      <td>168.299712</td>\n",
       "    </tr>\n",
       "    <tr>\n",
       "      <th>66</th>\n",
       "      <td>A Mishra</td>\n",
       "      <td>155.364807</td>\n",
       "    </tr>\n",
       "    <tr>\n",
       "      <th>67</th>\n",
       "      <td>R Vinay Kumar</td>\n",
       "      <td>137.168142</td>\n",
       "    </tr>\n",
       "    <tr>\n",
       "      <th>68</th>\n",
       "      <td>P Kumar</td>\n",
       "      <td>130.268199</td>\n",
       "    </tr>\n",
       "    <tr>\n",
       "      <th>69</th>\n",
       "      <td>B Kumar</td>\n",
       "      <td>99.176955</td>\n",
       "    </tr>\n",
       "  </tbody>\n",
       "</table>\n",
       "<p>70 rows × 2 columns</p>\n",
       "</div>"
      ],
      "text/plain": [
       "          striker   strikerate\n",
       "0       DA Warner  1810.153846\n",
       "1        CH Gayle  1759.507042\n",
       "2        S Dhawan  1669.518717\n",
       "3       SR Watson  1583.673469\n",
       "4      RV Uthappa  1519.631902\n",
       "..            ...          ...\n",
       "65      PP Chawla   168.299712\n",
       "66       A Mishra   155.364807\n",
       "67  R Vinay Kumar   137.168142\n",
       "68        P Kumar   130.268199\n",
       "69        B Kumar    99.176955\n",
       "\n",
       "[70 rows x 2 columns]"
      ]
     },
     "execution_count": 16,
     "metadata": {},
     "output_type": "execute_result"
    }
   ],
   "source": [
    "#total balls played \n",
    "#df_total_ball_faced = df[df['extras_type']!='wides'].groupby('batsman').count().sort_values(by='batsman_runs', ascending=False)['batsman_runs']\n",
    "ball_faced = data[data['wides']==0].groupby('striker').count().sort_values('runs_off_bat',ascending=False)['runs_off_bat']\n",
    "ball_faced\n",
    "player = batsman_run\n",
    "player=player.merge(ball_faced,left_on='striker',right_on='striker')\n",
    "player = player[player['runs_off_bat_y']>200]\n",
    "player=player.reset_index()\n",
    "player['strikerate'] = (player['runs_off_bat_x']/player['runs_off_bat_y'])*100\n",
    "player=player.sort_values('strikerate',ascending=False)\n",
    "player=player.reset_index()\n",
    "player=player.rename(columns={'runs_off_bat_x':'runs','runs_off_bat_y':'balls'})\n",
    "player=player.drop(columns=['runs','balls','level_0','index'])\n",
    "player"
   ]
  },
  {
   "cell_type": "code",
   "execution_count": null,
   "id": "8ea6aea7",
   "metadata": {},
   "outputs": [],
   "source": []
  },
  {
   "cell_type": "code",
   "execution_count": 9,
   "id": "1c2fdea0",
   "metadata": {},
   "outputs": [],
   "source": [
    "do = data[data['over']>15].groupby('striker').sum().sort_values('runs_off_bat',ascending= False)\n",
    "do = do['runs_off_bat'].reset_index()"
   ]
  },
  {
   "cell_type": "code",
   "execution_count": 10,
   "id": "595b9709",
   "metadata": {},
   "outputs": [
    {
     "data": {
      "text/html": [
       "<div>\n",
       "<style scoped>\n",
       "    .dataframe tbody tr th:only-of-type {\n",
       "        vertical-align: middle;\n",
       "    }\n",
       "\n",
       "    .dataframe tbody tr th {\n",
       "        vertical-align: top;\n",
       "    }\n",
       "\n",
       "    .dataframe thead th {\n",
       "        text-align: right;\n",
       "    }\n",
       "</style>\n",
       "<table border=\"1\" class=\"dataframe\">\n",
       "  <thead>\n",
       "    <tr style=\"text-align: right;\">\n",
       "      <th></th>\n",
       "      <th>striker</th>\n",
       "      <th>strikerate</th>\n",
       "    </tr>\n",
       "  </thead>\n",
       "  <tbody>\n",
       "    <tr>\n",
       "      <th>0</th>\n",
       "      <td>AB de Villiers</td>\n",
       "      <td>222.911695</td>\n",
       "    </tr>\n",
       "    <tr>\n",
       "      <th>1</th>\n",
       "      <td>CH Gayle</td>\n",
       "      <td>204.577465</td>\n",
       "    </tr>\n",
       "    <tr>\n",
       "      <th>2</th>\n",
       "      <td>RR Pant</td>\n",
       "      <td>200.000000</td>\n",
       "    </tr>\n",
       "    <tr>\n",
       "      <th>3</th>\n",
       "      <td>JC Buttler</td>\n",
       "      <td>197.916667</td>\n",
       "    </tr>\n",
       "    <tr>\n",
       "      <th>4</th>\n",
       "      <td>AD Russell</td>\n",
       "      <td>197.196262</td>\n",
       "    </tr>\n",
       "    <tr>\n",
       "      <th>...</th>\n",
       "      <td>...</td>\n",
       "      <td>...</td>\n",
       "    </tr>\n",
       "    <tr>\n",
       "      <th>65</th>\n",
       "      <td>PP Chawla</td>\n",
       "      <td>122.190202</td>\n",
       "    </tr>\n",
       "    <tr>\n",
       "      <th>66</th>\n",
       "      <td>R Vinay Kumar</td>\n",
       "      <td>115.929204</td>\n",
       "    </tr>\n",
       "    <tr>\n",
       "      <th>67</th>\n",
       "      <td>P Kumar</td>\n",
       "      <td>112.643678</td>\n",
       "    </tr>\n",
       "    <tr>\n",
       "      <th>68</th>\n",
       "      <td>A Mishra</td>\n",
       "      <td>106.008584</td>\n",
       "    </tr>\n",
       "    <tr>\n",
       "      <th>69</th>\n",
       "      <td>B Kumar</td>\n",
       "      <td>97.942387</td>\n",
       "    </tr>\n",
       "  </tbody>\n",
       "</table>\n",
       "<p>70 rows × 2 columns</p>\n",
       "</div>"
      ],
      "text/plain": [
       "           striker  strikerate\n",
       "0   AB de Villiers  222.911695\n",
       "1         CH Gayle  204.577465\n",
       "2          RR Pant  200.000000\n",
       "3       JC Buttler  197.916667\n",
       "4       AD Russell  197.196262\n",
       "..             ...         ...\n",
       "65       PP Chawla  122.190202\n",
       "66   R Vinay Kumar  115.929204\n",
       "67         P Kumar  112.643678\n",
       "68        A Mishra  106.008584\n",
       "69         B Kumar   97.942387\n",
       "\n",
       "[70 rows x 2 columns]"
      ]
     },
     "execution_count": 10,
     "metadata": {},
     "output_type": "execute_result"
    }
   ],
   "source": [
    "data= data[(data['over']>15)]\n",
    "ball_faced = data[(data['wides']==0) ].groupby('striker').count().sort_values('runs_off_bat',ascending=False)['runs_off_bat']\n",
    "player = do\n",
    "player=player.merge(ball_faced,left_on='striker',right_on='striker')\n",
    "player = player[player['runs_off_bat_y']>200]\n",
    "player=player.reset_index()\n",
    "player['strikerate'] = (player['runs_off_bat_x']/player['runs_off_bat_y'])*100\n",
    "player=player.sort_values('strikerate',ascending=False)\n",
    "player=player.reset_index()\n",
    "player=player.rename(columns={'runs_off_bat_x':'runs','runs_off_bat_y':'balls'})\n",
    "player=player.drop(columns=['runs','balls','level_0','index'])\n",
    "player"
   ]
  },
  {
   "cell_type": "code",
   "execution_count": 11,
   "id": "360728da",
   "metadata": {
    "scrolled": false
   },
   "outputs": [
    {
     "name": "stdout",
     "output_type": "stream",
     "text": [
      "<class 'pandas.core.series.Series'>\n",
      "Int64Index: 51311 entries, 37 to 225935\n",
      "Series name: over\n",
      "Non-Null Count  Dtype\n",
      "--------------  -----\n",
      "51311 non-null  int64\n",
      "dtypes: int64(1)\n",
      "memory usage: 801.7 KB\n"
     ]
    }
   ],
   "source": [
    "data['over'].info()"
   ]
  },
  {
   "cell_type": "code",
   "execution_count": 12,
   "id": "3e2daa84",
   "metadata": {},
   "outputs": [
    {
     "data": {
      "text/html": [
       "<div>\n",
       "<style scoped>\n",
       "    .dataframe tbody tr th:only-of-type {\n",
       "        vertical-align: middle;\n",
       "    }\n",
       "\n",
       "    .dataframe tbody tr th {\n",
       "        vertical-align: top;\n",
       "    }\n",
       "\n",
       "    .dataframe thead th {\n",
       "        text-align: right;\n",
       "    }\n",
       "</style>\n",
       "<table border=\"1\" class=\"dataframe\">\n",
       "  <thead>\n",
       "    <tr style=\"text-align: right;\">\n",
       "      <th></th>\n",
       "      <th>player_dismissed</th>\n",
       "      <th>count</th>\n",
       "    </tr>\n",
       "  </thead>\n",
       "  <tbody>\n",
       "    <tr>\n",
       "      <th>276</th>\n",
       "      <td>MS Dhoni</td>\n",
       "      <td>85</td>\n",
       "    </tr>\n",
       "    <tr>\n",
       "      <th>203</th>\n",
       "      <td>KA Pollard</td>\n",
       "      <td>80</td>\n",
       "    </tr>\n",
       "    <tr>\n",
       "      <th>208</th>\n",
       "      <td>KD Karthik</td>\n",
       "      <td>64</td>\n",
       "    </tr>\n",
       "    <tr>\n",
       "      <th>345</th>\n",
       "      <td>RA Jadeja</td>\n",
       "      <td>64</td>\n",
       "    </tr>\n",
       "    <tr>\n",
       "      <th>350</th>\n",
       "      <td>RG Sharma</td>\n",
       "      <td>60</td>\n",
       "    </tr>\n",
       "    <tr>\n",
       "      <th>...</th>\n",
       "      <td>...</td>\n",
       "      <td>...</td>\n",
       "    </tr>\n",
       "    <tr>\n",
       "      <th>54</th>\n",
       "      <td>Akash Deep</td>\n",
       "      <td>1</td>\n",
       "    </tr>\n",
       "    <tr>\n",
       "      <th>342</th>\n",
       "      <td>R Shukla</td>\n",
       "      <td>1</td>\n",
       "    </tr>\n",
       "    <tr>\n",
       "      <th>112</th>\n",
       "      <td>DE Bollinger</td>\n",
       "      <td>1</td>\n",
       "    </tr>\n",
       "    <tr>\n",
       "      <th>45</th>\n",
       "      <td>AS Joseph</td>\n",
       "      <td>1</td>\n",
       "    </tr>\n",
       "    <tr>\n",
       "      <th>308</th>\n",
       "      <td>P Sahu</td>\n",
       "      <td>1</td>\n",
       "    </tr>\n",
       "  </tbody>\n",
       "</table>\n",
       "<p>489 rows × 2 columns</p>\n",
       "</div>"
      ],
      "text/plain": [
       "    player_dismissed  count\n",
       "276         MS Dhoni     85\n",
       "203       KA Pollard     80\n",
       "208       KD Karthik     64\n",
       "345        RA Jadeja     64\n",
       "350        RG Sharma     60\n",
       "..               ...    ...\n",
       "54        Akash Deep      1\n",
       "342         R Shukla      1\n",
       "112     DE Bollinger      1\n",
       "45         AS Joseph      1\n",
       "308           P Sahu      1\n",
       "\n",
       "[489 rows x 2 columns]"
      ]
     },
     "execution_count": 12,
     "metadata": {},
     "output_type": "execute_result"
    }
   ],
   "source": [
    "#best batting average\n",
    "temp = data\n",
    "temp['count'] = 1\n",
    "temp=temp.groupby(\"player_dismissed\").sum().reset_index()\n",
    "temp=temp.sort_values('count',ascending=False)\n",
    "temp= temp[['player_dismissed','count']]\n",
    "temp"
   ]
  },
  {
   "cell_type": "code",
   "execution_count": 13,
   "id": "42ad7dbd",
   "metadata": {},
   "outputs": [],
   "source": [
    "#batting Average\n",
    "temp = data\n",
    "temp['count'] = 1\n",
    "temp=temp.groupby(\"player_dismissed\").sum().reset_index()\n",
    "temp=temp.sort_values('count',ascending=False)\n",
    "temp= temp[['player_dismissed','count']]\n",
    "player = batsman_run\n",
    "player= player.merge(temp,left_on='striker',right_on='player_dismissed')\n",
    "player = player[player['runs_off_bat']>500]\n",
    "player['bat_avg'] = (player['runs_off_bat']/player['count'])\n",
    "top_avg= player.sort_values('bat_avg',ascending=False).reset_index()\n",
    "top_avg=top_avg[['striker','bat_avg']]\n"
   ]
  },
  {
   "cell_type": "code",
   "execution_count": 14,
   "id": "1e88cee1",
   "metadata": {},
   "outputs": [
    {
     "ename": "KeyError",
     "evalue": "'run'",
     "output_type": "error",
     "traceback": [
      "\u001b[1;31m-----------------------------------------------------\u001b[0m",
      "\u001b[1;31mKeyError\u001b[0m            Traceback (most recent call last)",
      "Input \u001b[1;32mIn [14]\u001b[0m, in \u001b[0;36m<cell line: 2>\u001b[1;34m()\u001b[0m\n\u001b[0;32m      1\u001b[0m player\u001b[38;5;241m=\u001b[39mplayer\u001b[38;5;241m.\u001b[39mdrop(\u001b[38;5;124m'\u001b[39m\u001b[38;5;124mplayer_dismissed\u001b[39m\u001b[38;5;124m'\u001b[39m,axis\u001b[38;5;241m=\u001b[39m\u001b[38;5;241m1\u001b[39m)\n\u001b[1;32m----> 2\u001b[0m player\u001b[38;5;241m=\u001b[39m\u001b[43mplayer\u001b[49m\u001b[38;5;241;43m.\u001b[39;49m\u001b[43msort_values\u001b[49m\u001b[43m(\u001b[49m\u001b[38;5;124;43m'\u001b[39;49m\u001b[38;5;124;43mrun\u001b[39;49m\u001b[38;5;124;43m'\u001b[39;49m\u001b[43m,\u001b[49m\u001b[43mascending\u001b[49m\u001b[38;5;241;43m=\u001b[39;49m\u001b[43m \u001b[49m\u001b[38;5;28;43;01mFalse\u001b[39;49;00m\u001b[43m)\u001b[49m\n\u001b[0;32m      3\u001b[0m player\n",
      "File \u001b[1;32mC:\\Python310\\lib\\site-packages\\pandas\\util\\_decorators.py:311\u001b[0m, in \u001b[0;36mdeprecate_nonkeyword_arguments.<locals>.decorate.<locals>.wrapper\u001b[1;34m(*args, **kwargs)\u001b[0m\n\u001b[0;32m    305\u001b[0m \u001b[38;5;28;01mif\u001b[39;00m \u001b[38;5;28mlen\u001b[39m(args) \u001b[38;5;241m>\u001b[39m num_allow_args:\n\u001b[0;32m    306\u001b[0m     warnings\u001b[38;5;241m.\u001b[39mwarn(\n\u001b[0;32m    307\u001b[0m         msg\u001b[38;5;241m.\u001b[39mformat(arguments\u001b[38;5;241m=\u001b[39marguments),\n\u001b[0;32m    308\u001b[0m         \u001b[38;5;167;01mFutureWarning\u001b[39;00m,\n\u001b[0;32m    309\u001b[0m         stacklevel\u001b[38;5;241m=\u001b[39mstacklevel,\n\u001b[0;32m    310\u001b[0m     )\n\u001b[1;32m--> 311\u001b[0m \u001b[38;5;28;01mreturn\u001b[39;00m func(\u001b[38;5;241m*\u001b[39margs, \u001b[38;5;241m*\u001b[39m\u001b[38;5;241m*\u001b[39mkwargs)\n",
      "File \u001b[1;32mC:\\Python310\\lib\\site-packages\\pandas\\core\\frame.py:6319\u001b[0m, in \u001b[0;36mDataFrame.sort_values\u001b[1;34m(self, by, axis, ascending, inplace, kind, na_position, ignore_index, key)\u001b[0m\n\u001b[0;32m   6315\u001b[0m \u001b[38;5;28;01melif\u001b[39;00m \u001b[38;5;28mlen\u001b[39m(by):\n\u001b[0;32m   6316\u001b[0m     \u001b[38;5;66;03m# len(by) == 1\u001b[39;00m\n\u001b[0;32m   6318\u001b[0m     by \u001b[38;5;241m=\u001b[39m by[\u001b[38;5;241m0\u001b[39m]\n\u001b[1;32m-> 6319\u001b[0m     k \u001b[38;5;241m=\u001b[39m \u001b[38;5;28;43mself\u001b[39;49m\u001b[38;5;241;43m.\u001b[39;49m\u001b[43m_get_label_or_level_values\u001b[49m\u001b[43m(\u001b[49m\u001b[43mby\u001b[49m\u001b[43m,\u001b[49m\u001b[43m \u001b[49m\u001b[43maxis\u001b[49m\u001b[38;5;241;43m=\u001b[39;49m\u001b[43maxis\u001b[49m\u001b[43m)\u001b[49m\n\u001b[0;32m   6321\u001b[0m     \u001b[38;5;66;03m# need to rewrap column in Series to apply key function\u001b[39;00m\n\u001b[0;32m   6322\u001b[0m     \u001b[38;5;28;01mif\u001b[39;00m key \u001b[38;5;129;01mis\u001b[39;00m \u001b[38;5;129;01mnot\u001b[39;00m \u001b[38;5;28;01mNone\u001b[39;00m:\n\u001b[0;32m   6323\u001b[0m         \u001b[38;5;66;03m# error: Incompatible types in assignment (expression has type\u001b[39;00m\n\u001b[0;32m   6324\u001b[0m         \u001b[38;5;66;03m# \"Series\", variable has type \"ndarray\")\u001b[39;00m\n",
      "File \u001b[1;32mC:\\Python310\\lib\\site-packages\\pandas\\core\\generic.py:1840\u001b[0m, in \u001b[0;36mNDFrame._get_label_or_level_values\u001b[1;34m(self, key, axis)\u001b[0m\n\u001b[0;32m   1838\u001b[0m     values \u001b[38;5;241m=\u001b[39m \u001b[38;5;28mself\u001b[39m\u001b[38;5;241m.\u001b[39maxes[axis]\u001b[38;5;241m.\u001b[39mget_level_values(key)\u001b[38;5;241m.\u001b[39m_values\n\u001b[0;32m   1839\u001b[0m \u001b[38;5;28;01melse\u001b[39;00m:\n\u001b[1;32m-> 1840\u001b[0m     \u001b[38;5;28;01mraise\u001b[39;00m \u001b[38;5;167;01mKeyError\u001b[39;00m(key)\n\u001b[0;32m   1842\u001b[0m \u001b[38;5;66;03m# Check for duplicates\u001b[39;00m\n\u001b[0;32m   1843\u001b[0m \u001b[38;5;28;01mif\u001b[39;00m values\u001b[38;5;241m.\u001b[39mndim \u001b[38;5;241m>\u001b[39m \u001b[38;5;241m1\u001b[39m:\n",
      "\u001b[1;31mKeyError\u001b[0m: 'run'"
     ]
    }
   ],
   "source": [
    "player=player.drop('player_dismissed',axis=1)\n",
    "player=player.sort_values('run',ascending= False)\n",
    "player"
   ]
  },
  {
   "cell_type": "code",
   "execution_count": null,
   "id": "77ee1ec3",
   "metadata": {},
   "outputs": [],
   "source": [
    "data = data.drop(columns = ['striker_id','non_striker_id','bowler_id'])"
   ]
  },
  {
   "cell_type": "code",
   "execution_count": null,
   "id": "606d2d5f",
   "metadata": {
    "scrolled": true
   },
   "outputs": [],
   "source": [
    "data.sample(2)"
   ]
  },
  {
   "cell_type": "code",
   "execution_count": null,
   "id": "810ac51a",
   "metadata": {},
   "outputs": [],
   "source": [
    "#total runs scored so far\n",
    "data['runs']= data['runs_off_bat'].fillna(0) +data['extras'].fillna(0) +data['wides'].fillna(0) +data['noballs'].fillna(0)+data['byes'].fillna(0)+data['legbyes'].fillna(0)+data['penalty'].fillna(0)\n",
    "data.sample(2)"
   ]
  },
  {
   "cell_type": "code",
   "execution_count": null,
   "id": "594e2758",
   "metadata": {},
   "outputs": [],
   "source": [
    "total_runs= data['runs'].sum()\n",
    "total_runs"
   ]
  },
  {
   "cell_type": "code",
   "execution_count": null,
   "id": "b0f31f07",
   "metadata": {},
   "outputs": [],
   "source": [
    "\n"
   ]
  },
  {
   "cell_type": "code",
   "execution_count": null,
   "id": "e716a071",
   "metadata": {},
   "outputs": [],
   "source": [
    "#most wickets\n",
    "data['wicket_type'].value_counts()"
   ]
  },
  {
   "cell_type": "code",
   "execution_count": null,
   "id": "9e4875e0",
   "metadata": {},
   "outputs": [],
   "source": [
    "l= ['caught','bowled','lbw','stumped','caught and bowled']\n",
    "data_bowler = data[data['wicket_type'].isin(l)]\n",
    "data_bowler['wicket']= 1\n"
   ]
  },
  {
   "cell_type": "code",
   "execution_count": null,
   "id": "c773adca",
   "metadata": {},
   "outputs": [],
   "source": [
    "bowler = data_bowler.groupby('bowler').sum()\n",
    "bowler=bowler['wicket'].sort_values(ascending=False).reset_index().head()"
   ]
  },
  {
   "cell_type": "code",
   "execution_count": null,
   "id": "1bb68c0c",
   "metadata": {},
   "outputs": [],
   "source": [
    "bowler"
   ]
  },
  {
   "cell_type": "code",
   "execution_count": null,
   "id": "03c29991",
   "metadata": {},
   "outputs": [],
   "source": [
    "wickets= data['wicket_type'].value_counts().reset_index()\n",
    "wickets"
   ]
  },
  {
   "cell_type": "code",
   "execution_count": null,
   "id": "7986141d",
   "metadata": {},
   "outputs": [],
   "source": [
    "total_wickets= wickets['wicket_type'].sum()\n",
    "total_wickets"
   ]
  },
  {
   "cell_type": "code",
   "execution_count": null,
   "id": "94c6e3b2",
   "metadata": {},
   "outputs": [],
   "source": [
    "#most fours\n",
    "fours_df= data[data['runs_off_bat']==4]\n",
    "total_fours= fours_df\n",
    "total_fours"
   ]
  },
  {
   "cell_type": "code",
   "execution_count": null,
   "id": "0e266c51",
   "metadata": {},
   "outputs": [],
   "source": [
    "\n",
    "most_fours_batsman= fours_df.groupby('striker')\n",
    "most_fours_batsman=most_fours_batsman['runs_off_bat'].sum().sort_values(ascending=False).reset_index()\n",
    "most_fours_batsman['runs_off_bat'] = (most_fours_batsman['runs_off_bat']/4).astype('int')\n",
    "most_fours_batsman.head()"
   ]
  },
  {
   "cell_type": "code",
   "execution_count": null,
   "id": "c5e9f20f",
   "metadata": {},
   "outputs": [],
   "source": [
    "player=player.merge(most_fours_batsman,left_on='striker',right_on='striker')\n",
    "player=player.rename(columns={'count':'out','runs_off_bat':\"4s\"})\n",
    "player"
   ]
  },
  {
   "cell_type": "code",
   "execution_count": null,
   "id": "796af757",
   "metadata": {},
   "outputs": [],
   "source": [
    "#Most six\n",
    "\n",
    "#most fours\n",
    "six_df= data[data['runs_off_bat']==6]\n",
    "total_six= six_df.shape\n",
    "print(total_six)\n",
    "most_six_batsman= six_df.groupby('striker')\n",
    "most_six_batsman=most_six_batsman['runs_off_bat'].sum().sort_values(ascending=False).reset_index()\n",
    "most_six_batsman['runs_off_bat'] = (most_six_batsman['runs_off_bat']/6).astype('int')\n",
    "most_six_batsman.head()"
   ]
  },
  {
   "cell_type": "code",
   "execution_count": null,
   "id": "f832f5a7",
   "metadata": {},
   "outputs": [],
   "source": [
    "player=player.merge(most_six_batsman,left_on='striker',right_on='striker')\n",
    "player=player.rename(columns={'count':'out','runs_off_bat':\"6s\"})\n",
    "player"
   ]
  },
  {
   "cell_type": "code",
   "execution_count": null,
   "id": "7f59b2bd",
   "metadata": {},
   "outputs": [],
   "source": [
    "#most dots\n",
    "dots_df= data[data['runs_off_bat']==0]\n",
    "dots_df['striker'].value_counts().reset_index().head()\n"
   ]
  },
  {
   "cell_type": "code",
   "execution_count": null,
   "id": "d926f5a1",
   "metadata": {},
   "outputs": [],
   "source": [
    "#most ducks\n",
    "\n"
   ]
  },
  {
   "cell_type": "code",
   "execution_count": null,
   "id": "4c93c441",
   "metadata": {},
   "outputs": [],
   "source": [
    "#best strike rates \n"
   ]
  },
  {
   "cell_type": "code",
   "execution_count": null,
   "id": "ebe7fba6",
   "metadata": {
    "scrolled": true
   },
   "outputs": [],
   "source": [
    "#total players\n",
    "players.drop_duplicates()"
   ]
  },
  {
   "cell_type": "code",
   "execution_count": null,
   "id": "394a62a8",
   "metadata": {},
   "outputs": [],
   "source": [
    "players.shape[0]"
   ]
  },
  {
   "cell_type": "code",
   "execution_count": null,
   "id": "ff414c41",
   "metadata": {},
   "outputs": [],
   "source": [
    "players['Playing Position'].value_counts()"
   ]
  },
  {
   "cell_type": "code",
   "execution_count": null,
   "id": "f1637d1d",
   "metadata": {},
   "outputs": [],
   "source": [
    "#total batsman\n",
    "pp=['Top order Batter','Middle order Batter','Opening Batter']\n",
    "players[players['Playing Position'].isin(pp)]"
   ]
  },
  {
   "cell_type": "code",
   "execution_count": null,
   "id": "f42bda6b",
   "metadata": {},
   "outputs": [],
   "source": [
    "#total bowlers\n",
    "players[players['Playing Position']=='Bowler']"
   ]
  },
  {
   "cell_type": "code",
   "execution_count": null,
   "id": "82e706db",
   "metadata": {},
   "outputs": [],
   "source": [
    "#total allrounders\n",
    "pa=['Allrounder','Bowling Allrounder','Batting Allrounder']\n",
    "players[players['Playing Position'].isin(pa)]"
   ]
  },
  {
   "cell_type": "code",
   "execution_count": null,
   "id": "3c869a10",
   "metadata": {},
   "outputs": [],
   "source": [
    "#total wicketkeepr\n",
    "pw = ['Wicketkeeper','Wicketkeeper Batter']\n",
    "players[players['Playing Position'].isin(pw)].shape"
   ]
  },
  {
   "cell_type": "code",
   "execution_count": null,
   "id": "0597a1f2",
   "metadata": {},
   "outputs": [],
   "source": [
    "match['season'].value_counts().shape[0]"
   ]
  },
  {
   "cell_type": "code",
   "execution_count": null,
   "id": "1d053ebb",
   "metadata": {},
   "outputs": [],
   "source": [
    "#total matches\n",
    "match.drop_duplicates().shape"
   ]
  },
  {
   "cell_type": "code",
   "execution_count": null,
   "id": "7e251973",
   "metadata": {},
   "outputs": [],
   "source": [
    "#total venues\n",
    "venue.drop_duplicates().shape"
   ]
  },
  {
   "cell_type": "code",
   "execution_count": null,
   "id": "6a2c6fc5",
   "metadata": {},
   "outputs": [],
   "source": [
    "#most frequent venue\n",
    "most_venue = match.groupby('venueID')['match_id'].count().reset_index()\n",
    "most_venue.head()"
   ]
  },
  {
   "cell_type": "code",
   "execution_count": null,
   "id": "72ba2132",
   "metadata": {},
   "outputs": [],
   "source": [
    "venue = venue.merge(most_venue,right_on='venueID',left_on='id')"
   ]
  },
  {
   "cell_type": "code",
   "execution_count": null,
   "id": "8a22d4b4",
   "metadata": {},
   "outputs": [],
   "source": [
    "most_used_stadium = venue.sort_values('match_id',ascending=False)\n",
    "most_used_stadium = most_used_stadium[['venue','match_id']]\n",
    "most_used_stadium.rename(columns={'match_id':'Matches Played'})\n",
    "most_used_stadium.head()"
   ]
  },
  {
   "cell_type": "code",
   "execution_count": null,
   "id": "5ef9f852",
   "metadata": {},
   "outputs": [],
   "source": [
    "#most MOM\n",
    "match['player_of_match'].value_counts().reset_index().head()"
   ]
  },
  {
   "cell_type": "code",
   "execution_count": null,
   "id": "c0952d2f",
   "metadata": {},
   "outputs": [],
   "source": [
    "#most wins by a team\n",
    "match['winner'].value_counts().reset_index().head()"
   ]
  },
  {
   "cell_type": "code",
   "execution_count": null,
   "id": "92ca2010",
   "metadata": {},
   "outputs": [],
   "source": [
    "#biggest wins by runs\n",
    "biggest_winruns = match.sort_values('win_by',ascending= False)\n",
    "biggest_winruns = biggest_winruns[['team1','team2','season','date','toss_winner','winner','win_by','player_of_match','venueID']].head(10)\n",
    "biggest_winruns=biggest_winruns.merge(venue,right_on='id',left_on='venueID')\n",
    "biggest_winruns = biggest_winruns[['team1','team2','season','date','toss_winner','winner','win_by','player_of_match','venue','city']].sort_values('win_by',ascending= False)\n",
    "biggest_winruns"
   ]
  },
  {
   "cell_type": "code",
   "execution_count": null,
   "id": "a32a2288",
   "metadata": {},
   "outputs": [],
   "source": [
    "data['player_dismissed'] = data['player_dismissed'].fillna('')\n",
    "data.info()\n"
   ]
  },
  {
   "cell_type": "code",
   "execution_count": null,
   "id": "6fb8d730",
   "metadata": {
    "scrolled": true
   },
   "outputs": [],
   "source": [
    "#fifties\n",
    "new_df= data.groupby(['match_id','striker'])['runs_off_bat'].sum().reset_index()\n",
    "new_df\n",
    "fifties = new_df[(new_df['runs_off_bat']>=50) & (new_df['runs_off_bat']<100)]\n",
    "total_fifty= fifties.shape[0]\n",
    "print(total_fifty)\n",
    "fifties.drop(columns = ['match_id'],inplace=True)\n",
    "fifties= fifties.groupby('striker').count().sort_values('runs_off_bat',ascending=False)\n",
    "fifties = fifties.reset_index()\n",
    "fifties"
   ]
  },
  {
   "cell_type": "code",
   "execution_count": null,
   "id": "7d29a6c5",
   "metadata": {},
   "outputs": [],
   "source": [
    "#100s\n",
    "hundreds = new_df[(new_df['runs_off_bat']>=100)]\n",
    "total_hundreds= hundreds.shape[0]\n",
    "print(total_hundreds)\n",
    "hundreds.drop(columns = ['match_id'],inplace=True)\n",
    "hundreds= hundreds.groupby('striker').count().reset_index()\n",
    "hundreds.sort_values('runs_off_bat',ascending=False).head()"
   ]
  },
  {
   "cell_type": "code",
   "execution_count": null,
   "id": "fdafbbb2",
   "metadata": {},
   "outputs": [],
   "source": [
    "#highest scores\n",
    "\n",
    "new_df=new_df.sort_values('runs_off_bat',ascending=False)\n",
    "new_df=new_df.reset_index()\n",
    "new_df = new_df.drop(columns = ['match_id','index'])\n",
    "new_df"
   ]
  },
  {
   "cell_type": "code",
   "execution_count": null,
   "id": "ef6d9c8b",
   "metadata": {},
   "outputs": [],
   "source": [
    "#most ducks\n",
    "new_df= new_df[new_df['runs_off_bat']==0]\n",
    "ducks_df= new_df.groupby('striker').count()\n",
    "ducks_df.sort_values('runs_off_bat',ascending=False).reset_index()"
   ]
  },
  {
   "cell_type": "code",
   "execution_count": null,
   "id": "24b80c61",
   "metadata": {},
   "outputs": [],
   "source": [
    "data.head()"
   ]
  },
  {
   "cell_type": "code",
   "execution_count": null,
   "id": "88de017c",
   "metadata": {
    "scrolled": true
   },
   "outputs": [],
   "source": [
    "match.head()"
   ]
  },
  {
   "cell_type": "code",
   "execution_count": null,
   "id": "a80df77d",
   "metadata": {},
   "outputs": [],
   "source": [
    "playing11 = pd.read_csv('playing_11.csv')"
   ]
  },
  {
   "cell_type": "code",
   "execution_count": null,
   "id": "27d14e63",
   "metadata": {
    "scrolled": true
   },
   "outputs": [],
   "source": [
    "playing11.head()"
   ]
  },
  {
   "cell_type": "code",
   "execution_count": null,
   "id": "9b8f9857",
   "metadata": {},
   "outputs": [],
   "source": [
    "\n",
    "playing11= playing11.groupby('Players')['Match_ID'].count()\n",
    "\n",
    "playing11 = pd.DataFrame({'Player':playing11.index, 'Matches':playing11.values})\n",
    "playing11"
   ]
  },
  {
   "cell_type": "code",
   "execution_count": null,
   "id": "a3cc3b58",
   "metadata": {},
   "outputs": [],
   "source": [
    "playing11= playing11.sort_values('Matches',ascending=False).reset_index()\n",
    "playing11= playing11.drop('index',axis=1)\n",
    "playing11"
   ]
  },
  {
   "cell_type": "code",
   "execution_count": null,
   "id": "37a059fb",
   "metadata": {},
   "outputs": [],
   "source": [
    "data = pd.read_csv('deliveries.csv')\n",
    "data.head(2)"
   ]
  },
  {
   "cell_type": "code",
   "execution_count": null,
   "id": "b4e4539d",
   "metadata": {},
   "outputs": [],
   "source": [
    "# most hatricks\n",
    "l= ['caught','bowled','lbw','stumped','caught and bowled']\n",
    "data_bowler = data[data['wicket_type'].isin(l)]\n",
    "data_bowler['wicket']= 1\n",
    "data_bowler\n",
    "df= data_bowler.groupby(['match_id','bowler']).count().reset_index()\n",
    "df = df[['bowler','wicket']]\n",
    "#highest wicket\n",
    "highest_wickets = df.sort_values('wicket',ascending=False).reset_index()\n",
    "highest_wickets = highest_wickets.drop('index',axis=1)\n",
    "highest_wickets\n",
    "\n"
   ]
  },
  {
   "cell_type": "code",
   "execution_count": null,
   "id": "20226d18",
   "metadata": {},
   "outputs": [],
   "source": [
    "#>=5 wickets\n",
    "#five_w = \n",
    "df= df[df['wicket']>=5]\n",
    "five_w = df.groupby('bowler')['wicket'].count()\n",
    "five_w = pd.DataFrame({'bowler':five_w.index,'wicket':five_w.values} )\n",
    "five_w = five_w.sort_values('wicket',ascending=False).reset_index()\n",
    "five_w = five_w.drop('index',axis=1)\n",
    "five_w "
   ]
  },
  {
   "cell_type": "code",
   "execution_count": null,
   "id": "3d761cf9",
   "metadata": {},
   "outputs": [],
   "source": [
    "#most dots bowler\n",
    "dots_df= data[(data['runs_off_bat']==0) & (data['wides']>0) ]\n",
    "most_wides = dots_df['bowler'].value_counts().reset_index()\n",
    "most_wides\n",
    "\n"
   ]
  },
  {
   "cell_type": "code",
   "execution_count": null,
   "id": "bb1c700c",
   "metadata": {},
   "outputs": [],
   "source": [
    "df = data[(data['runs_off_bat']==0)]\n",
    "df = df['bowler'].value_counts()\n",
    "dot_wide= pd.DataFrame({'bowler':df.index,'dot_wide':df.values} )\n",
    "dot_wide"
   ]
  },
  {
   "cell_type": "code",
   "execution_count": null,
   "id": "802ed55c",
   "metadata": {},
   "outputs": [],
   "source": [
    "dot_wide =dot_wide.merge(most_extras,left_on='bowler',right_on='index')\n",
    "dot_wide"
   ]
  },
  {
   "cell_type": "code",
   "execution_count": null,
   "id": "900dce6f",
   "metadata": {},
   "outputs": [],
   "source": [
    "dot_wide['dots'] = dot_wide['dot_wide']-dot_wide['bowler_y']\n",
    "dot_wide = dot_wide.sort_values('dots',ascending=False)\n",
    "dot_wide = dot_wide.drop(columns=['bowler_x','dot_wide','bowler_y'])\n",
    "dot_wide"
   ]
  },
  {
   "cell_type": "code",
   "execution_count": null,
   "id": "74f800ce",
   "metadata": {},
   "outputs": [],
   "source": [
    "#most extras bowler\n",
    "dots_df= data[(data['runs_off_bat']==0) & ((data['wides']>0)|(data['legbyes']>0)) ]\n",
    "most_extras = dots_df['bowler'].value_counts().reset_index()\n",
    "most_extras\n"
   ]
  },
  {
   "cell_type": "code",
   "execution_count": null,
   "id": "0e28fd6c",
   "metadata": {},
   "outputs": [],
   "source": [
    "batsman_run"
   ]
  },
  {
   "cell_type": "code",
   "execution_count": null,
   "id": "81ab6a0f",
   "metadata": {},
   "outputs": [],
   "source": [
    "import plotly.graph_objects as go\n",
    "fig = go.Figure([go.Bar(x= batsman_run['striker'].head(10), y=  batsman_run[\"runs_off_bat\"].head(10))])\n",
    "fig.show()"
   ]
  },
  {
   "cell_type": "code",
   "execution_count": null,
   "id": "9c707356",
   "metadata": {},
   "outputs": [],
   "source": []
  }
 ],
 "metadata": {
  "kernelspec": {
   "display_name": "Python 3 (ipykernel)",
   "language": "python",
   "name": "python3"
  },
  "language_info": {
   "codemirror_mode": {
    "name": "ipython",
    "version": 3
   },
   "file_extension": ".py",
   "mimetype": "text/x-python",
   "name": "python",
   "nbconvert_exporter": "python",
   "pygments_lexer": "ipython3",
   "version": "3.10.4"
  }
 },
 "nbformat": 4,
 "nbformat_minor": 5
}
